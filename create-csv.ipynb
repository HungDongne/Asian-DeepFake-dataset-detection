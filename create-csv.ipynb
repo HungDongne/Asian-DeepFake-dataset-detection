{
 "cells": [
  {
   "cell_type": "code",
   "execution_count": 6,
   "id": "d099ea0c",
   "metadata": {},
   "outputs": [],
   "source": [
    "import os\n",
    "import cv2\n",
    "import numpy as np\n",
    "import pandas as pd\n",
    "from tqdm import tqdm\n",
    "%matplotlib inline"
   ]
  },
  {
   "cell_type": "code",
   "execution_count": 7,
   "id": "1ac4ef6c",
   "metadata": {},
   "outputs": [],
   "source": [
    "# Feature extraction functions\n",
    "def extract_frame_features(frame):\n",
    "    \"\"\"Extract features from a single frame\"\"\"\n",
    "    gray = cv2.cvtColor(frame, cv2.COLOR_BGR2GRAY)\n",
    "    hist = cv2.calcHist([gray], [0], None, [32], [0, 256])\n",
    "    hist = cv2.normalize(hist, hist).flatten()\n",
    "    blur_value = cv2.Laplacian(gray, cv2.CV_64F).var()\n",
    "    means, stds = cv2.meanStdDev(frame)\n",
    "    color_features = np.concatenate([means, stds]).flatten()\n",
    "    features = np.hstack([hist, [blur_value], color_features])\n",
    "    return features\n",
    "\n",
    "def extract_video_features(video_path, max_frames=30):\n",
    "    \"\"\"Extract features from a video\"\"\"\n",
    "    cap = cv2.VideoCapture(video_path)\n",
    "    features = []\n",
    "    frame_count = 0\n",
    "    total_frames = int(cap.get(cv2.CAP_PROP_FRAME_COUNT))\n",
    "    step = max(1, total_frames // max_frames)\n",
    "    while True:\n",
    "        ret, frame = cap.read()\n",
    "        if not ret:\n",
    "            break\n",
    "        if frame_count % step == 0 and len(features) < max_frames:\n",
    "            frame = cv2.resize(frame, (224, 224))\n",
    "            frame_feats = extract_frame_features(frame)\n",
    "            features.append(frame_feats)\n",
    "        frame_count += 1\n",
    "    cap.release()\n",
    "    if not features:\n",
    "        return np.zeros((max_frames, 32 + 1 + 6))\n",
    "    features = np.array(features)\n",
    "    avg_features = np.mean(features, axis=0)\n",
    "    return avg_features\n",
    "\n",
    "def process_directory(directory_path, label, max_videos=None):\n",
    "    features_list = []\n",
    "    labels = []\n",
    "    video_files = [f for f in os.listdir(directory_path) if f.endswith('.mp4')]\n",
    "    if max_videos is not None:\n",
    "        video_files = video_files[:max_videos]\n",
    "    for video_file in tqdm(video_files, desc=f'Processing {label} videos'):\n",
    "        video_path = os.path.join(directory_path, video_file)\n",
    "        features = extract_video_features(video_path)\n",
    "        features_list.append(features)\n",
    "        labels.append(label)\n",
    "    return features_list, labels"
   ]
  },
  {
   "cell_type": "code",
   "execution_count": 8,
   "id": "20783146",
   "metadata": {},
   "outputs": [
    {
     "name": "stderr",
     "output_type": "stream",
     "text": [
      "Processing 0 videos: 100%|██████████| 1000/1000 [17:22<00:00,  1.04s/it]\n",
      "Processing 1 videos: 100%|██████████| 1051/1051 [16:34<00:00,  1.06it/s]\n"
     ]
    },
    {
     "name": "stdout",
     "output_type": "stream",
     "text": [
      "Data saved\n"
     ]
    }
   ],
   "source": [
    "real_dir = 'real-vid'\n",
    "fake_dir = 'fake-vid'\n",
    "\n",
    "real_features, real_labels = process_directory(real_dir, 0)\n",
    "fake_features, fake_labels = process_directory(fake_dir, 1)\n",
    "\n",
    "all_features = real_features + fake_features\n",
    "all_labels = real_labels + fake_labels\n",
    "\n",
    "feature_names = []\n",
    "feature_names += [f'hist_{i}' for i in range(32)]\n",
    "feature_names += ['blurness']\n",
    "feature_names += [f'mean_{c}' for c in ['b', 'g', 'r']]\n",
    "feature_names += [f'std_{c}' for c in ['b', 'g', 'r']]\n",
    "\n",
    "df = pd.DataFrame(all_features, columns=feature_names)\n",
    "df['label'] = all_labels\n",
    "\n",
    "df.to_csv('data.csv', index=False)\n",
    "print(\"Data saved\")"
   ]
  }
 ],
 "metadata": {
  "kernelspec": {
   "display_name": "Python 3",
   "language": "python",
   "name": "python3"
  },
  "language_info": {
   "codemirror_mode": {
    "name": "ipython",
    "version": 3
   },
   "file_extension": ".py",
   "mimetype": "text/x-python",
   "name": "python",
   "nbconvert_exporter": "python",
   "pygments_lexer": "ipython3",
   "version": "3.13.2"
  }
 },
 "nbformat": 4,
 "nbformat_minor": 5
}
