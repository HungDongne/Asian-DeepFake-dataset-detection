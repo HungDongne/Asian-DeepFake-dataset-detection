{
 "cells": [
  {
   "cell_type": "code",
   "execution_count": 2,
   "id": "b09a33d4",
   "metadata": {},
   "outputs": [
    {
     "name": "stdout",
     "output_type": "stream",
     "text": [
      "Successfully created video-features.csv.\n"
     ]
    }
   ],
   "source": [
    "import pandas as pd\n",
    "\n",
    "data_features = pd.read_csv('data.csv')\n",
    "data_filenames = pd.read_csv('data2.csv')\n",
    "\n",
    "if len(data_features) != len(data_filenames):\n",
    "    raise ValueError(\"The number of rows in data.csv and Data2.csv does not match!\")\n",
    "\n",
    "data_features.insert(0, 'filename', data_filenames['filename'])\n",
    "\n",
    "data_features.to_csv('video-features.csv', index=False)\n",
    "print(\"Successfully created video-features.csv.\")\n"
   ]
  }
 ],
 "metadata": {
  "kernelspec": {
   "display_name": "Python 3",
   "language": "python",
   "name": "python3"
  },
  "language_info": {
   "codemirror_mode": {
    "name": "ipython",
    "version": 3
   },
   "file_extension": ".py",
   "mimetype": "text/x-python",
   "name": "python",
   "nbconvert_exporter": "python",
   "pygments_lexer": "ipython3",
   "version": "3.13.2"
  }
 },
 "nbformat": 4,
 "nbformat_minor": 5
}
